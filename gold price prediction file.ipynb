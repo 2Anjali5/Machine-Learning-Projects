{
 "cells": [
  {
   "cell_type": "markdown",
   "id": "48102355",
   "metadata": {},
   "source": [
    "# <span style = \"color: green\" >Simple Linear Regression Project (Gold Price Prediction) </span>"
   ]
  },
  {
   "cell_type": "markdown",
   "id": "2e972c7b",
   "metadata": {},
   "source": [
    "***"
   ]
  },
  {
   "cell_type": "markdown",
   "id": "7c57d13c",
   "metadata": {},
   "source": [
    "Of all the precious metals, gold is the most popular as an investment. Investors generally buy gold as a way of diversifying risk, especially through the use of futures contracts and derivatives. The gold market is subject to speculation and volatility as are other markets. Compared to other precious metals used for investment, gold has been the most effective safe haven across a number of countries.<br><br>\n",
    "The Dataset contain gold prices (in USD) from 2001 to 2019.\n",
    "Our goal is to predict where the gold prices will be in the coming years"
   ]
  },
  {
   "cell_type": "markdown",
   "id": "9ab4112a",
   "metadata": {},
   "source": [
    "#### Import the necessary libraries"
   ]
  },
  {
   "cell_type": "code",
   "execution_count": 1,
   "id": "4255e2ef",
   "metadata": {},
   "outputs": [],
   "source": [
    "import pandas as pd"
   ]
  },
  {
   "cell_type": "markdown",
   "id": "9f81002c",
   "metadata": {},
   "source": [
    "#### Read 'gold_price_usd.csv' & store it in a variable"
   ]
  },
  {
   "cell_type": "code",
   "execution_count": 3,
   "id": "85dae8da",
   "metadata": {},
   "outputs": [
    {
     "data": {
      "text/html": [
       "<div>\n",
       "<style scoped>\n",
       "    .dataframe tbody tr th:only-of-type {\n",
       "        vertical-align: middle;\n",
       "    }\n",
       "\n",
       "    .dataframe tbody tr th {\n",
       "        vertical-align: top;\n",
       "    }\n",
       "\n",
       "    .dataframe thead th {\n",
       "        text-align: right;\n",
       "    }\n",
       "</style>\n",
       "<table border=\"1\" class=\"dataframe\">\n",
       "  <thead>\n",
       "    <tr style=\"text-align: right;\">\n",
       "      <th></th>\n",
       "      <th>Date</th>\n",
       "      <th>USD (AM)</th>\n",
       "    </tr>\n",
       "  </thead>\n",
       "  <tbody>\n",
       "    <tr>\n",
       "      <th>0</th>\n",
       "      <td>2001-01-02</td>\n",
       "      <td>272.80</td>\n",
       "    </tr>\n",
       "    <tr>\n",
       "      <th>1</th>\n",
       "      <td>2001-01-03</td>\n",
       "      <td>269.00</td>\n",
       "    </tr>\n",
       "    <tr>\n",
       "      <th>2</th>\n",
       "      <td>2001-01-04</td>\n",
       "      <td>268.75</td>\n",
       "    </tr>\n",
       "    <tr>\n",
       "      <th>3</th>\n",
       "      <td>2001-01-05</td>\n",
       "      <td>268.00</td>\n",
       "    </tr>\n",
       "    <tr>\n",
       "      <th>4</th>\n",
       "      <td>2001-01-08</td>\n",
       "      <td>268.60</td>\n",
       "    </tr>\n",
       "    <tr>\n",
       "      <th>...</th>\n",
       "      <td>...</td>\n",
       "      <td>...</td>\n",
       "    </tr>\n",
       "    <tr>\n",
       "      <th>4713</th>\n",
       "      <td>2019-08-27</td>\n",
       "      <td>1531.85</td>\n",
       "    </tr>\n",
       "    <tr>\n",
       "      <th>4714</th>\n",
       "      <td>2019-08-28</td>\n",
       "      <td>1541.75</td>\n",
       "    </tr>\n",
       "    <tr>\n",
       "      <th>4715</th>\n",
       "      <td>2019-08-29</td>\n",
       "      <td>1536.65</td>\n",
       "    </tr>\n",
       "    <tr>\n",
       "      <th>4716</th>\n",
       "      <td>2019-08-30</td>\n",
       "      <td>1526.55</td>\n",
       "    </tr>\n",
       "    <tr>\n",
       "      <th>4717</th>\n",
       "      <td>2019-09-02</td>\n",
       "      <td>1523.35</td>\n",
       "    </tr>\n",
       "  </tbody>\n",
       "</table>\n",
       "<p>4718 rows × 2 columns</p>\n",
       "</div>"
      ],
      "text/plain": [
       "            Date  USD (AM)\n",
       "0     2001-01-02    272.80\n",
       "1     2001-01-03    269.00\n",
       "2     2001-01-04    268.75\n",
       "3     2001-01-05    268.00\n",
       "4     2001-01-08    268.60\n",
       "...          ...       ...\n",
       "4713  2019-08-27   1531.85\n",
       "4714  2019-08-28   1541.75\n",
       "4715  2019-08-29   1536.65\n",
       "4716  2019-08-30   1526.55\n",
       "4717  2019-09-02   1523.35\n",
       "\n",
       "[4718 rows x 2 columns]"
      ]
     },
     "execution_count": 3,
     "metadata": {},
     "output_type": "execute_result"
    }
   ],
   "source": [
    "df=pd.read_csv('gold_price_usd.csv')\n",
    "df"
   ]
  },
  {
   "cell_type": "markdown",
   "id": "660c1f06",
   "metadata": {},
   "source": [
    "#### View the first 5 rows"
   ]
  },
  {
   "cell_type": "code",
   "execution_count": 4,
   "id": "917d3b21",
   "metadata": {},
   "outputs": [
    {
     "data": {
      "text/html": [
       "<div>\n",
       "<style scoped>\n",
       "    .dataframe tbody tr th:only-of-type {\n",
       "        vertical-align: middle;\n",
       "    }\n",
       "\n",
       "    .dataframe tbody tr th {\n",
       "        vertical-align: top;\n",
       "    }\n",
       "\n",
       "    .dataframe thead th {\n",
       "        text-align: right;\n",
       "    }\n",
       "</style>\n",
       "<table border=\"1\" class=\"dataframe\">\n",
       "  <thead>\n",
       "    <tr style=\"text-align: right;\">\n",
       "      <th></th>\n",
       "      <th>Date</th>\n",
       "      <th>USD (AM)</th>\n",
       "    </tr>\n",
       "  </thead>\n",
       "  <tbody>\n",
       "    <tr>\n",
       "      <th>0</th>\n",
       "      <td>2001-01-02</td>\n",
       "      <td>272.80</td>\n",
       "    </tr>\n",
       "    <tr>\n",
       "      <th>1</th>\n",
       "      <td>2001-01-03</td>\n",
       "      <td>269.00</td>\n",
       "    </tr>\n",
       "    <tr>\n",
       "      <th>2</th>\n",
       "      <td>2001-01-04</td>\n",
       "      <td>268.75</td>\n",
       "    </tr>\n",
       "    <tr>\n",
       "      <th>3</th>\n",
       "      <td>2001-01-05</td>\n",
       "      <td>268.00</td>\n",
       "    </tr>\n",
       "    <tr>\n",
       "      <th>4</th>\n",
       "      <td>2001-01-08</td>\n",
       "      <td>268.60</td>\n",
       "    </tr>\n",
       "  </tbody>\n",
       "</table>\n",
       "</div>"
      ],
      "text/plain": [
       "         Date  USD (AM)\n",
       "0  2001-01-02    272.80\n",
       "1  2001-01-03    269.00\n",
       "2  2001-01-04    268.75\n",
       "3  2001-01-05    268.00\n",
       "4  2001-01-08    268.60"
      ]
     },
     "execution_count": 4,
     "metadata": {},
     "output_type": "execute_result"
    }
   ],
   "source": [
    "df.head(5)"
   ]
  },
  {
   "cell_type": "code",
   "execution_count": null,
   "id": "e7c06b52",
   "metadata": {},
   "outputs": [],
   "source": []
  },
  {
   "cell_type": "markdown",
   "id": "b660ee82",
   "metadata": {},
   "source": [
    "#### Check the information"
   ]
  },
  {
   "cell_type": "code",
   "execution_count": 5,
   "id": "25f73520",
   "metadata": {},
   "outputs": [
    {
     "name": "stdout",
     "output_type": "stream",
     "text": [
      "<class 'pandas.core.frame.DataFrame'>\n",
      "RangeIndex: 4718 entries, 0 to 4717\n",
      "Data columns (total 2 columns):\n",
      " #   Column    Non-Null Count  Dtype  \n",
      "---  ------    --------------  -----  \n",
      " 0   Date      4718 non-null   object \n",
      " 1   USD (AM)  4718 non-null   float64\n",
      "dtypes: float64(1), object(1)\n",
      "memory usage: 73.8+ KB\n"
     ]
    }
   ],
   "source": [
    "df.info()"
   ]
  },
  {
   "cell_type": "code",
   "execution_count": null,
   "id": "48170794",
   "metadata": {
    "scrolled": true
   },
   "outputs": [],
   "source": []
  },
  {
   "cell_type": "markdown",
   "id": "8f82c0da",
   "metadata": {},
   "source": [
    "#### Find the columns"
   ]
  },
  {
   "cell_type": "code",
   "execution_count": 6,
   "id": "74f9bb0d",
   "metadata": {},
   "outputs": [
    {
     "data": {
      "text/plain": [
       "Index(['Date', 'USD (AM)'], dtype='object')"
      ]
     },
     "execution_count": 6,
     "metadata": {},
     "output_type": "execute_result"
    }
   ],
   "source": [
    "df.columns"
   ]
  },
  {
   "cell_type": "code",
   "execution_count": null,
   "id": "a1c93286",
   "metadata": {
    "scrolled": true
   },
   "outputs": [],
   "source": []
  },
  {
   "cell_type": "markdown",
   "id": "33d9321f",
   "metadata": {},
   "source": [
    "#### Rename USD (AM) to Price"
   ]
  },
  {
   "cell_type": "code",
   "execution_count": 7,
   "id": "bb6d5368",
   "metadata": {},
   "outputs": [
    {
     "data": {
      "text/html": [
       "<div>\n",
       "<style scoped>\n",
       "    .dataframe tbody tr th:only-of-type {\n",
       "        vertical-align: middle;\n",
       "    }\n",
       "\n",
       "    .dataframe tbody tr th {\n",
       "        vertical-align: top;\n",
       "    }\n",
       "\n",
       "    .dataframe thead th {\n",
       "        text-align: right;\n",
       "    }\n",
       "</style>\n",
       "<table border=\"1\" class=\"dataframe\">\n",
       "  <thead>\n",
       "    <tr style=\"text-align: right;\">\n",
       "      <th></th>\n",
       "      <th>Date</th>\n",
       "      <th>Price</th>\n",
       "    </tr>\n",
       "  </thead>\n",
       "  <tbody>\n",
       "    <tr>\n",
       "      <th>0</th>\n",
       "      <td>2001-01-02</td>\n",
       "      <td>272.80</td>\n",
       "    </tr>\n",
       "    <tr>\n",
       "      <th>1</th>\n",
       "      <td>2001-01-03</td>\n",
       "      <td>269.00</td>\n",
       "    </tr>\n",
       "    <tr>\n",
       "      <th>2</th>\n",
       "      <td>2001-01-04</td>\n",
       "      <td>268.75</td>\n",
       "    </tr>\n",
       "    <tr>\n",
       "      <th>3</th>\n",
       "      <td>2001-01-05</td>\n",
       "      <td>268.00</td>\n",
       "    </tr>\n",
       "    <tr>\n",
       "      <th>4</th>\n",
       "      <td>2001-01-08</td>\n",
       "      <td>268.60</td>\n",
       "    </tr>\n",
       "    <tr>\n",
       "      <th>...</th>\n",
       "      <td>...</td>\n",
       "      <td>...</td>\n",
       "    </tr>\n",
       "    <tr>\n",
       "      <th>4713</th>\n",
       "      <td>2019-08-27</td>\n",
       "      <td>1531.85</td>\n",
       "    </tr>\n",
       "    <tr>\n",
       "      <th>4714</th>\n",
       "      <td>2019-08-28</td>\n",
       "      <td>1541.75</td>\n",
       "    </tr>\n",
       "    <tr>\n",
       "      <th>4715</th>\n",
       "      <td>2019-08-29</td>\n",
       "      <td>1536.65</td>\n",
       "    </tr>\n",
       "    <tr>\n",
       "      <th>4716</th>\n",
       "      <td>2019-08-30</td>\n",
       "      <td>1526.55</td>\n",
       "    </tr>\n",
       "    <tr>\n",
       "      <th>4717</th>\n",
       "      <td>2019-09-02</td>\n",
       "      <td>1523.35</td>\n",
       "    </tr>\n",
       "  </tbody>\n",
       "</table>\n",
       "<p>4718 rows × 2 columns</p>\n",
       "</div>"
      ],
      "text/plain": [
       "            Date    Price\n",
       "0     2001-01-02   272.80\n",
       "1     2001-01-03   269.00\n",
       "2     2001-01-04   268.75\n",
       "3     2001-01-05   268.00\n",
       "4     2001-01-08   268.60\n",
       "...          ...      ...\n",
       "4713  2019-08-27  1531.85\n",
       "4714  2019-08-28  1541.75\n",
       "4715  2019-08-29  1536.65\n",
       "4716  2019-08-30  1526.55\n",
       "4717  2019-09-02  1523.35\n",
       "\n",
       "[4718 rows x 2 columns]"
      ]
     },
     "execution_count": 7,
     "metadata": {},
     "output_type": "execute_result"
    }
   ],
   "source": [
    "df.rename(columns={'USD (AM)':'Price'},inplace='True')\n",
    "df"
   ]
  },
  {
   "cell_type": "code",
   "execution_count": null,
   "id": "44a686e6",
   "metadata": {
    "scrolled": true
   },
   "outputs": [],
   "source": []
  },
  {
   "cell_type": "markdown",
   "id": "0e7710f8",
   "metadata": {},
   "source": [
    "#### Check if there are any missing values in the dataset"
   ]
  },
  {
   "cell_type": "code",
   "execution_count": 8,
   "id": "1839c7e2",
   "metadata": {},
   "outputs": [
    {
     "data": {
      "text/plain": [
       "Date     0\n",
       "Price    0\n",
       "dtype: int64"
      ]
     },
     "execution_count": 8,
     "metadata": {},
     "output_type": "execute_result"
    }
   ],
   "source": [
    "df.isna().sum()"
   ]
  },
  {
   "cell_type": "code",
   "execution_count": null,
   "id": "c32d93b7",
   "metadata": {},
   "outputs": [],
   "source": []
  },
  {
   "cell_type": "markdown",
   "id": "6ba55458",
   "metadata": {},
   "source": [
    "#### Gather the basic statistical information about the dataset"
   ]
  },
  {
   "cell_type": "code",
   "execution_count": 9,
   "id": "24d83ace",
   "metadata": {},
   "outputs": [
    {
     "data": {
      "text/html": [
       "<div>\n",
       "<style scoped>\n",
       "    .dataframe tbody tr th:only-of-type {\n",
       "        vertical-align: middle;\n",
       "    }\n",
       "\n",
       "    .dataframe tbody tr th {\n",
       "        vertical-align: top;\n",
       "    }\n",
       "\n",
       "    .dataframe thead th {\n",
       "        text-align: right;\n",
       "    }\n",
       "</style>\n",
       "<table border=\"1\" class=\"dataframe\">\n",
       "  <thead>\n",
       "    <tr style=\"text-align: right;\">\n",
       "      <th></th>\n",
       "      <th>Price</th>\n",
       "    </tr>\n",
       "  </thead>\n",
       "  <tbody>\n",
       "    <tr>\n",
       "      <th>count</th>\n",
       "      <td>4718.000000</td>\n",
       "    </tr>\n",
       "    <tr>\n",
       "      <th>mean</th>\n",
       "      <td>959.990812</td>\n",
       "    </tr>\n",
       "    <tr>\n",
       "      <th>std</th>\n",
       "      <td>449.456217</td>\n",
       "    </tr>\n",
       "    <tr>\n",
       "      <th>min</th>\n",
       "      <td>256.700000</td>\n",
       "    </tr>\n",
       "    <tr>\n",
       "      <th>25%</th>\n",
       "      <td>449.112500</td>\n",
       "    </tr>\n",
       "    <tr>\n",
       "      <th>50%</th>\n",
       "      <td>1113.125000</td>\n",
       "    </tr>\n",
       "    <tr>\n",
       "      <th>75%</th>\n",
       "      <td>1293.750000</td>\n",
       "    </tr>\n",
       "    <tr>\n",
       "      <th>max</th>\n",
       "      <td>1896.500000</td>\n",
       "    </tr>\n",
       "  </tbody>\n",
       "</table>\n",
       "</div>"
      ],
      "text/plain": [
       "             Price\n",
       "count  4718.000000\n",
       "mean    959.990812\n",
       "std     449.456217\n",
       "min     256.700000\n",
       "25%     449.112500\n",
       "50%    1113.125000\n",
       "75%    1293.750000\n",
       "max    1896.500000"
      ]
     },
     "execution_count": 9,
     "metadata": {},
     "output_type": "execute_result"
    }
   ],
   "source": [
    "df.describe()"
   ]
  },
  {
   "cell_type": "code",
   "execution_count": null,
   "id": "b3e3c5dc",
   "metadata": {
    "scrolled": true
   },
   "outputs": [],
   "source": []
  },
  {
   "cell_type": "markdown",
   "id": "8ad500ad",
   "metadata": {},
   "source": [
    "#### Convert Date column from object to datetime format"
   ]
  },
  {
   "cell_type": "code",
   "execution_count": 10,
   "id": "2e63a975",
   "metadata": {},
   "outputs": [
    {
     "name": "stdout",
     "output_type": "stream",
     "text": [
      "<class 'pandas.core.frame.DataFrame'>\n",
      "RangeIndex: 4718 entries, 0 to 4717\n",
      "Data columns (total 2 columns):\n",
      " #   Column  Non-Null Count  Dtype  \n",
      "---  ------  --------------  -----  \n",
      " 0   Date    4718 non-null   object \n",
      " 1   Price   4718 non-null   float64\n",
      "dtypes: float64(1), object(1)\n",
      "memory usage: 73.8+ KB\n"
     ]
    }
   ],
   "source": [
    "df.info()"
   ]
  },
  {
   "cell_type": "markdown",
   "id": "37f41fc8",
   "metadata": {},
   "source": [
    "\n",
    "#### Create a new column with Year"
   ]
  },
  {
   "cell_type": "code",
   "execution_count": null,
   "id": "62f0816a",
   "metadata": {},
   "outputs": [],
   "source": []
  },
  {
   "cell_type": "code",
   "execution_count": null,
   "id": "01629be1",
   "metadata": {},
   "outputs": [],
   "source": []
  },
  {
   "cell_type": "code",
   "execution_count": 11,
   "id": "030bbb9b",
   "metadata": {},
   "outputs": [
    {
     "data": {
      "text/html": [
       "<div>\n",
       "<style scoped>\n",
       "    .dataframe tbody tr th:only-of-type {\n",
       "        vertical-align: middle;\n",
       "    }\n",
       "\n",
       "    .dataframe tbody tr th {\n",
       "        vertical-align: top;\n",
       "    }\n",
       "\n",
       "    .dataframe thead th {\n",
       "        text-align: right;\n",
       "    }\n",
       "</style>\n",
       "<table border=\"1\" class=\"dataframe\">\n",
       "  <thead>\n",
       "    <tr style=\"text-align: right;\">\n",
       "      <th></th>\n",
       "      <th>Date</th>\n",
       "      <th>Price</th>\n",
       "      <th>Year</th>\n",
       "    </tr>\n",
       "  </thead>\n",
       "  <tbody>\n",
       "    <tr>\n",
       "      <th>0</th>\n",
       "      <td>2001-01-02</td>\n",
       "      <td>272.80</td>\n",
       "      <td>2001</td>\n",
       "    </tr>\n",
       "    <tr>\n",
       "      <th>1</th>\n",
       "      <td>2001-01-03</td>\n",
       "      <td>269.00</td>\n",
       "      <td>2001</td>\n",
       "    </tr>\n",
       "    <tr>\n",
       "      <th>2</th>\n",
       "      <td>2001-01-04</td>\n",
       "      <td>268.75</td>\n",
       "      <td>2001</td>\n",
       "    </tr>\n",
       "    <tr>\n",
       "      <th>3</th>\n",
       "      <td>2001-01-05</td>\n",
       "      <td>268.00</td>\n",
       "      <td>2001</td>\n",
       "    </tr>\n",
       "    <tr>\n",
       "      <th>4</th>\n",
       "      <td>2001-01-08</td>\n",
       "      <td>268.60</td>\n",
       "      <td>2001</td>\n",
       "    </tr>\n",
       "  </tbody>\n",
       "</table>\n",
       "</div>"
      ],
      "text/plain": [
       "         Date   Price  Year\n",
       "0  2001-01-02  272.80  2001\n",
       "1  2001-01-03  269.00  2001\n",
       "2  2001-01-04  268.75  2001\n",
       "3  2001-01-05  268.00  2001\n",
       "4  2001-01-08  268.60  2001"
      ]
     },
     "execution_count": 11,
     "metadata": {},
     "output_type": "execute_result"
    }
   ],
   "source": [
    "Year=df['Date'].str[:4]\n",
    "df['Year']=Year\n",
    "df.head()"
   ]
  },
  {
   "cell_type": "code",
   "execution_count": null,
   "id": "f3ac47c5",
   "metadata": {},
   "outputs": [],
   "source": []
  },
  {
   "cell_type": "code",
   "execution_count": null,
   "id": "caa6c5f4",
   "metadata": {},
   "outputs": [],
   "source": []
  },
  {
   "cell_type": "markdown",
   "id": "9177126f",
   "metadata": {},
   "source": [
    "#### Create a new column with Months"
   ]
  },
  {
   "cell_type": "code",
   "execution_count": 12,
   "id": "6b57c728",
   "metadata": {},
   "outputs": [
    {
     "data": {
      "text/html": [
       "<div>\n",
       "<style scoped>\n",
       "    .dataframe tbody tr th:only-of-type {\n",
       "        vertical-align: middle;\n",
       "    }\n",
       "\n",
       "    .dataframe tbody tr th {\n",
       "        vertical-align: top;\n",
       "    }\n",
       "\n",
       "    .dataframe thead th {\n",
       "        text-align: right;\n",
       "    }\n",
       "</style>\n",
       "<table border=\"1\" class=\"dataframe\">\n",
       "  <thead>\n",
       "    <tr style=\"text-align: right;\">\n",
       "      <th></th>\n",
       "      <th>Date</th>\n",
       "      <th>Price</th>\n",
       "      <th>Year</th>\n",
       "      <th>Month</th>\n",
       "    </tr>\n",
       "  </thead>\n",
       "  <tbody>\n",
       "    <tr>\n",
       "      <th>0</th>\n",
       "      <td>2001-01-02</td>\n",
       "      <td>272.80</td>\n",
       "      <td>2001</td>\n",
       "      <td>01</td>\n",
       "    </tr>\n",
       "    <tr>\n",
       "      <th>1</th>\n",
       "      <td>2001-01-03</td>\n",
       "      <td>269.00</td>\n",
       "      <td>2001</td>\n",
       "      <td>01</td>\n",
       "    </tr>\n",
       "    <tr>\n",
       "      <th>2</th>\n",
       "      <td>2001-01-04</td>\n",
       "      <td>268.75</td>\n",
       "      <td>2001</td>\n",
       "      <td>01</td>\n",
       "    </tr>\n",
       "    <tr>\n",
       "      <th>3</th>\n",
       "      <td>2001-01-05</td>\n",
       "      <td>268.00</td>\n",
       "      <td>2001</td>\n",
       "      <td>01</td>\n",
       "    </tr>\n",
       "    <tr>\n",
       "      <th>4</th>\n",
       "      <td>2001-01-08</td>\n",
       "      <td>268.60</td>\n",
       "      <td>2001</td>\n",
       "      <td>01</td>\n",
       "    </tr>\n",
       "  </tbody>\n",
       "</table>\n",
       "</div>"
      ],
      "text/plain": [
       "         Date   Price  Year Month\n",
       "0  2001-01-02  272.80  2001    01\n",
       "1  2001-01-03  269.00  2001    01\n",
       "2  2001-01-04  268.75  2001    01\n",
       "3  2001-01-05  268.00  2001    01\n",
       "4  2001-01-08  268.60  2001    01"
      ]
     },
     "execution_count": 12,
     "metadata": {},
     "output_type": "execute_result"
    }
   ],
   "source": [
    "Month=df['Date'].str[5:7]\n",
    "df['Month']=Month\n",
    "df.head()"
   ]
  },
  {
   "cell_type": "code",
   "execution_count": null,
   "id": "11cf3e07",
   "metadata": {},
   "outputs": [],
   "source": []
  },
  {
   "cell_type": "markdown",
   "id": "107fd613",
   "metadata": {},
   "source": [
    "#### See all the years and Months in our dataset"
   ]
  },
  {
   "cell_type": "code",
   "execution_count": 13,
   "id": "b0ef440d",
   "metadata": {},
   "outputs": [],
   "source": [
    "import numpy as np"
   ]
  },
  {
   "cell_type": "code",
   "execution_count": 14,
   "id": "f3da4d19",
   "metadata": {},
   "outputs": [
    {
     "data": {
      "text/plain": [
       "array(['2001', '2002', '2003', '2004', '2005', '2006', '2007', '2008',\n",
       "       '2009', '2010', '2011', '2012', '2013', '2014', '2015', '2016',\n",
       "       '2017', '2018', '2019'], dtype=object)"
      ]
     },
     "execution_count": 14,
     "metadata": {},
     "output_type": "execute_result"
    }
   ],
   "source": [
    "Year.unique()\n"
   ]
  },
  {
   "cell_type": "code",
   "execution_count": null,
   "id": "9a06dd21",
   "metadata": {},
   "outputs": [],
   "source": []
  },
  {
   "cell_type": "code",
   "execution_count": 15,
   "id": "d9e2699f",
   "metadata": {
    "scrolled": true
   },
   "outputs": [],
   "source": [
    "#Years"
   ]
  },
  {
   "cell_type": "code",
   "execution_count": 16,
   "id": "d38d65d4",
   "metadata": {},
   "outputs": [
    {
     "data": {
      "text/plain": [
       "array(['01', '02', '03', '04', '05', '06', '07', '08', '09', '10', '11',\n",
       "       '12'], dtype=object)"
      ]
     },
     "execution_count": 16,
     "metadata": {},
     "output_type": "execute_result"
    }
   ],
   "source": [
    "Month.unique()"
   ]
  },
  {
   "cell_type": "code",
   "execution_count": null,
   "id": "6f2b0a1c",
   "metadata": {
    "scrolled": true
   },
   "outputs": [],
   "source": []
  },
  {
   "cell_type": "markdown",
   "id": "c9dbda58",
   "metadata": {},
   "source": [
    "## <span style = \"color: orange\" >Visualization</span>"
   ]
  },
  {
   "cell_type": "markdown",
   "id": "680fae97",
   "metadata": {},
   "source": [
    "### Create a regression plot with x-axis as years and y-axis as Price"
   ]
  },
  {
   "cell_type": "code",
   "execution_count": 17,
   "id": "6fcba3eb",
   "metadata": {},
   "outputs": [],
   "source": [
    "import matplotlib .pyplot as plt\n",
    "import seaborn as sns "
   ]
  },
  {
   "cell_type": "code",
   "execution_count": 18,
   "id": "93349b1c",
   "metadata": {},
   "outputs": [
    {
     "data": {
      "text/html": [
       "<div>\n",
       "<style scoped>\n",
       "    .dataframe tbody tr th:only-of-type {\n",
       "        vertical-align: middle;\n",
       "    }\n",
       "\n",
       "    .dataframe tbody tr th {\n",
       "        vertical-align: top;\n",
       "    }\n",
       "\n",
       "    .dataframe thead th {\n",
       "        text-align: right;\n",
       "    }\n",
       "</style>\n",
       "<table border=\"1\" class=\"dataframe\">\n",
       "  <thead>\n",
       "    <tr style=\"text-align: right;\">\n",
       "      <th></th>\n",
       "      <th>Date</th>\n",
       "      <th>Price</th>\n",
       "      <th>Year</th>\n",
       "      <th>Month</th>\n",
       "    </tr>\n",
       "  </thead>\n",
       "  <tbody>\n",
       "    <tr>\n",
       "      <th>0</th>\n",
       "      <td>2001-01-02</td>\n",
       "      <td>272.80</td>\n",
       "      <td>2001</td>\n",
       "      <td>01</td>\n",
       "    </tr>\n",
       "    <tr>\n",
       "      <th>1</th>\n",
       "      <td>2001-01-03</td>\n",
       "      <td>269.00</td>\n",
       "      <td>2001</td>\n",
       "      <td>01</td>\n",
       "    </tr>\n",
       "    <tr>\n",
       "      <th>2</th>\n",
       "      <td>2001-01-04</td>\n",
       "      <td>268.75</td>\n",
       "      <td>2001</td>\n",
       "      <td>01</td>\n",
       "    </tr>\n",
       "    <tr>\n",
       "      <th>3</th>\n",
       "      <td>2001-01-05</td>\n",
       "      <td>268.00</td>\n",
       "      <td>2001</td>\n",
       "      <td>01</td>\n",
       "    </tr>\n",
       "    <tr>\n",
       "      <th>4</th>\n",
       "      <td>2001-01-08</td>\n",
       "      <td>268.60</td>\n",
       "      <td>2001</td>\n",
       "      <td>01</td>\n",
       "    </tr>\n",
       "  </tbody>\n",
       "</table>\n",
       "</div>"
      ],
      "text/plain": [
       "         Date   Price  Year Month\n",
       "0  2001-01-02  272.80  2001    01\n",
       "1  2001-01-03  269.00  2001    01\n",
       "2  2001-01-04  268.75  2001    01\n",
       "3  2001-01-05  268.00  2001    01\n",
       "4  2001-01-08  268.60  2001    01"
      ]
     },
     "execution_count": 18,
     "metadata": {},
     "output_type": "execute_result"
    }
   ],
   "source": [
    "df.head()"
   ]
  },
  {
   "cell_type": "code",
   "execution_count": 19,
   "id": "909b9c3b",
   "metadata": {},
   "outputs": [
    {
     "data": {
      "text/plain": [
       "<AxesSubplot:xlabel='Year', ylabel='Price'>"
      ]
     },
     "execution_count": 19,
     "metadata": {},
     "output_type": "execute_result"
    },
    {
     "data": {
      "image/png": "[encoded data removed]",
      "text/plain": [
       "<Figure size 640x480 with 1 Axes>"
      ]
     },
     "metadata": {},
     "output_type": "display_data"
    }
   ],
   "source": [
    "sns.scatterplot(x=df['Year'],y=df['Price'])"
   ]
  },
  {
   "cell_type": "markdown",
   "id": "87a1fe81",
   "metadata": {},
   "source": [
    "### Plot a histplot to find the variation in price"
   ]
  },
  {
   "cell_type": "code",
   "execution_count": 20,
   "id": "afa1e97a",
   "metadata": {},
   "outputs": [
    {
     "data": {
      "text/plain": [
       "<AxesSubplot:xlabel='Price', ylabel='Count'>"
      ]
     },
     "execution_count": 20,
     "metadata": {},
     "output_type": "execute_result"
    },
    {
     "data": {
      "image/png": "[encoded data removed]",
      "text/plain": [
       "<Figure size 640x480 with 1 Axes>"
      ]
     },
     "metadata": {},
     "output_type": "display_data"
    }
   ],
   "source": [
    "sns.histplot(data=df,x='Price')"
   ]
  },
  {
   "cell_type": "code",
   "execution_count": null,
   "id": "da8d6fa6",
   "metadata": {},
   "outputs": [],
   "source": []
  },
  {
   "cell_type": "markdown",
   "id": "6c2a2c75",
   "metadata": {},
   "source": [
    "### Assign year and price in x and y variables"
   ]
  },
  {
   "cell_type": "code",
   "execution_count": 21,
   "id": "1813fec8",
   "metadata": {},
   "outputs": [],
   "source": [
    "X = df[['Year']]\n",
    "y = df['Price']"
   ]
  },
  {
   "cell_type": "markdown",
   "id": "56d9d00f",
   "metadata": {},
   "source": [
    "### Split the data into traning and testin set"
   ]
  },
  {
   "cell_type": "markdown",
   "id": "df9f468a",
   "metadata": {},
   "source": [
    "We will train our model on the training set and then use the test set to evaluate the model"
   ]
  },
  {
   "cell_type": "code",
   "execution_count": 22,
   "id": "4bed6865",
   "metadata": {},
   "outputs": [],
   "source": [
    "from sklearn.model_selection import train_test_split"
   ]
  },
  {
   "cell_type": "code",
   "execution_count": 23,
   "id": "46b5c925",
   "metadata": {},
   "outputs": [],
   "source": [
    "X_train,X_test,y_train,y_test= train_test_split(X,y,test_size=0.2)"
   ]
  },
  {
   "cell_type": "code",
   "execution_count": 24,
   "id": "4433ca4f",
   "metadata": {},
   "outputs": [
    {
     "name": "stdout",
     "output_type": "stream",
     "text": [
      "(3774, 1)\n"
     ]
    }
   ],
   "source": [
    "print(X_train.shape)"
   ]
  },
  {
   "cell_type": "code",
   "execution_count": 25,
   "id": "50d000eb",
   "metadata": {},
   "outputs": [
    {
     "name": "stdout",
     "output_type": "stream",
     "text": [
      "(944, 1)\n"
     ]
    }
   ],
   "source": [
    "print(X_test.shape) "
   ]
  },
  {
   "cell_type": "markdown",
   "id": "9b768e74",
   "metadata": {},
   "source": [
    "\n",
    "\n",
    "\n",
    "### Create Linear Regression Model"
   ]
  },
  {
   "cell_type": "code",
   "execution_count": null,
   "id": "99a5ee74",
   "metadata": {},
   "outputs": [],
   "source": [
    "from sklearn.linear_model import LinearRegression"
   ]
  },
  {
   "cell_type": "code",
   "execution_count": 27,
   "id": "c76eea7a",
   "metadata": {},
   "outputs": [],
   "source": [
    "model=LinearRegression()"
   ]
  },
  {
   "cell_type": "markdown",
   "id": "2cf05c9e",
   "metadata": {},
   "source": [
    "### Train the  model"
   ]
  },
  {
   "cell_type": "code",
   "execution_count": 28,
   "id": "76d154d9",
   "metadata": {},
   "outputs": [
    {
     "data": {
      "text/plain": [
       "0.7062195587705216"
      ]
     },
     "execution_count": 28,
     "metadata": {},
     "output_type": "execute_result"
    }
   ],
   "source": [
    "model.fit(X_train,y_train)\n",
    "\n",
    "model.score(X_train,y_train)"
   ]
  },
  {
   "cell_type": "code",
   "execution_count": 29,
   "id": "17434b68",
   "metadata": {},
   "outputs": [
    {
     "name": "stdout",
     "output_type": "stream",
     "text": [
      "[70.25642838]\n",
      "-140243.2368812509\n"
     ]
    }
   ],
   "source": [
    "print(model.coef_)\n",
    "print(model.intercept_)"
   ]
  },
  {
   "cell_type": "markdown",
   "id": "cf0446f3",
   "metadata": {},
   "source": [
    "### Check the score of our model"
   ]
  },
  {
   "cell_type": "code",
   "execution_count": 30,
   "id": "b06ac383",
   "metadata": {},
   "outputs": [
    {
     "data": {
      "text/plain": [
       "LinearRegression()"
      ]
     },
     "execution_count": 30,
     "metadata": {},
     "output_type": "execute_result"
    }
   ],
   "source": [
    "model.fit(X_train,y_train)"
   ]
  },
  {
   "cell_type": "markdown",
   "id": "2a654304",
   "metadata": {},
   "source": [
    "### Check the coefficient and Intercept"
   ]
  },
  {
   "cell_type": "code",
   "execution_count": 31,
   "id": "a0d07c19",
   "metadata": {},
   "outputs": [
    {
     "name": "stdout",
     "output_type": "stream",
     "text": [
      "[70.25642838]\n",
      "-140243.2368812509\n"
     ]
    }
   ],
   "source": [
    "print(model.coef_)\n",
    "print(model.intercept_)"
   ]
  },
  {
   "cell_type": "markdown",
   "id": "ea41732a",
   "metadata": {},
   "source": [
    "### Make Prediction with Test data"
   ]
  },
  {
   "cell_type": "code",
   "execution_count": 34,
   "id": "de672562",
   "metadata": {},
   "outputs": [
    {
     "data": {
      "text/plain": [
       "944"
      ]
     },
     "execution_count": 34,
     "metadata": {},
     "output_type": "execute_result"
    }
   ],
   "source": [
    "y_pred=model.predict(X_test)\n",
    "len(y_pred)"
   ]
  },
  {
   "cell_type": "code",
   "execution_count": 35,
   "id": "8fdb4aaf",
   "metadata": {},
   "outputs": [
    {
     "data": {
      "text/plain": [
       "[<matplotlib.lines.Line2D at 0x21f806cd6a0>]"
      ]
     },
     "execution_count": 35,
     "metadata": {},
     "output_type": "execute_result"
    },
    {
     "data": {
      "image/png": "[encoded data removed]",
      "text/plain": [
       "<Figure size 640x480 with 1 Axes>"
      ]
     },
     "metadata": {},
     "output_type": "display_data"
    }
   ],
   "source": [
    "c =[i for i in range(1,945)]\n",
    "plt.plot(c,y_test,color='green')\n",
    "plt.plot(c,y_pred,color='red')"
   ]
  },
  {
   "cell_type": "code",
   "execution_count": 36,
   "id": "7d6d032e",
   "metadata": {},
   "outputs": [],
   "source": [
    "y_pred=model.predict(X_test)"
   ]
  },
  {
   "cell_type": "code",
   "execution_count": 37,
   "id": "2e4308a1",
   "metadata": {},
   "outputs": [
    {
     "data": {
      "text/plain": [
       "array([ 972.1841619 , 1042.44059028, 1182.95344704,  480.38916324,\n",
       "       1112.69701866,  410.13273486,  761.41487676, 1112.69701866,\n",
       "       1534.23558894,  831.67130514,  550.64559162,  339.87630648,\n",
       "       1323.4663038 , 1604.49201732,  550.64559162,  410.13273486,\n",
       "       1253.20987542,  410.13273486, 1253.20987542,  410.13273486,\n",
       "        901.92773352,  550.64559162,  550.64559162,  831.67130514,\n",
       "        620.90202   , 1323.4663038 ,  410.13273486,  550.64559162,\n",
       "        339.87630648, 1042.44059028, 1182.95344704, 1042.44059028,\n",
       "       1463.97916056, 1534.23558894, 1534.23558894,  831.67130514,\n",
       "       1323.4663038 ,  972.1841619 ,  691.15844838, 1393.72273218,\n",
       "       1253.20987542, 1323.4663038 ,  620.90202   , 1534.23558894,\n",
       "       1604.49201732,  410.13273486, 1112.69701866, 1323.4663038 ,\n",
       "       1253.20987542,  339.87630648,  339.87630648,  620.90202   ,\n",
       "        620.90202   , 1323.4663038 ,  761.41487676,  691.15844838,\n",
       "        691.15844838, 1463.97916056, 1463.97916056, 1323.4663038 ,\n",
       "        339.87630648,  339.87630648, 1042.44059028, 1323.4663038 ,\n",
       "        339.87630648,  831.67130514,  972.1841619 , 1463.97916056,\n",
       "        410.13273486, 1534.23558894, 1042.44059028, 1112.69701866,\n",
       "        901.92773352, 1112.69701866,  550.64559162, 1604.49201732,\n",
       "       1253.20987542, 1393.72273218,  901.92773352,  410.13273486,\n",
       "        691.15844838,  901.92773352, 1112.69701866, 1323.4663038 ,\n",
       "       1112.69701866, 1393.72273218, 1253.20987542,  972.1841619 ,\n",
       "       1393.72273218, 1253.20987542, 1042.44059028, 1112.69701866,\n",
       "       1042.44059028,  480.38916324, 1323.4663038 ,  761.41487676,\n",
       "        620.90202   , 1393.72273218, 1534.23558894,  831.67130514,\n",
       "        620.90202   ,  550.64559162,  691.15844838, 1112.69701866,\n",
       "       1323.4663038 ,  831.67130514, 1253.20987542, 1393.72273218,\n",
       "       1604.49201732,  620.90202   , 1463.97916056, 1463.97916056,\n",
       "        480.38916324, 1393.72273218,  480.38916324, 1253.20987542,\n",
       "       1463.97916056,  410.13273486,  620.90202   , 1463.97916056,\n",
       "        480.38916324,  339.87630648, 1112.69701866, 1323.4663038 ,\n",
       "       1182.95344704, 1182.95344704, 1534.23558894, 1112.69701866,\n",
       "       1463.97916056,  972.1841619 ,  761.41487676,  550.64559162,\n",
       "        831.67130514,  761.41487676, 1253.20987542, 1182.95344704,\n",
       "        691.15844838, 1182.95344704,  339.87630648,  831.67130514,\n",
       "        410.13273486, 1042.44059028, 1182.95344704, 1463.97916056,\n",
       "        339.87630648,  901.92773352,  339.87630648, 1463.97916056,\n",
       "        691.15844838,  901.92773352, 1042.44059028, 1393.72273218,\n",
       "        339.87630648, 1042.44059028, 1534.23558894,  410.13273486,\n",
       "        972.1841619 ,  831.67130514,  691.15844838, 1604.49201732,\n",
       "        901.92773352, 1604.49201732, 1253.20987542, 1253.20987542,\n",
       "       1253.20987542,  972.1841619 , 1604.49201732, 1323.4663038 ,\n",
       "        761.41487676,  480.38916324,  761.41487676, 1323.4663038 ,\n",
       "       1112.69701866, 1463.97916056,  620.90202   ,  480.38916324,\n",
       "        480.38916324, 1534.23558894,  972.1841619 , 1042.44059028,\n",
       "       1393.72273218, 1182.95344704,  761.41487676,  901.92773352,\n",
       "       1182.95344704,  620.90202   , 1042.44059028,  339.87630648,\n",
       "        972.1841619 , 1182.95344704, 1182.95344704,  410.13273486,\n",
       "        480.38916324, 1323.4663038 , 1463.97916056,  831.67130514,\n",
       "       1323.4663038 ,  550.64559162,  410.13273486,  410.13273486,\n",
       "       1112.69701866, 1253.20987542,  410.13273486,  761.41487676,\n",
       "        972.1841619 ,  972.1841619 ,  831.67130514, 1042.44059028,\n",
       "        339.87630648,  831.67130514,  691.15844838, 1042.44059028,\n",
       "        901.92773352,  620.90202   ,  620.90202   ,  339.87630648,\n",
       "        972.1841619 ,  972.1841619 , 1393.72273218,  480.38916324,\n",
       "       1393.72273218, 1042.44059028,  831.67130514,  901.92773352,\n",
       "       1534.23558894, 1463.97916056, 1323.4663038 ,  691.15844838,\n",
       "       1253.20987542,  550.64559162, 1463.97916056, 1463.97916056,\n",
       "       1042.44059028, 1253.20987542,  339.87630648,  831.67130514,\n",
       "        831.67130514, 1604.49201732,  410.13273486,  410.13273486,\n",
       "       1323.4663038 ,  831.67130514,  831.67130514, 1182.95344704,\n",
       "       1112.69701866, 1393.72273218, 1463.97916056,  339.87630648,\n",
       "        339.87630648, 1463.97916056, 1042.44059028, 1534.23558894,\n",
       "        550.64559162, 1534.23558894, 1393.72273218,  691.15844838,\n",
       "       1393.72273218,  550.64559162,  620.90202   ,  691.15844838,\n",
       "       1604.49201732,  972.1841619 , 1182.95344704,  691.15844838,\n",
       "       1182.95344704,  972.1841619 , 1604.49201732, 1042.44059028,\n",
       "        901.92773352,  831.67130514, 1323.4663038 ,  831.67130514,\n",
       "       1604.49201732,  339.87630648, 1323.4663038 , 1042.44059028,\n",
       "       1112.69701866,  339.87630648,  691.15844838,  480.38916324,\n",
       "       1042.44059028, 1182.95344704, 1182.95344704, 1182.95344704,\n",
       "        550.64559162, 1604.49201732,  691.15844838,  339.87630648,\n",
       "       1112.69701866,  480.38916324,  972.1841619 , 1323.4663038 ,\n",
       "       1323.4663038 , 1253.20987542, 1463.97916056, 1393.72273218,\n",
       "        691.15844838,  901.92773352, 1112.69701866,  620.90202   ,\n",
       "        480.38916324,  761.41487676,  550.64559162, 1253.20987542,\n",
       "        691.15844838,  761.41487676, 1253.20987542, 1463.97916056,\n",
       "        901.92773352,  691.15844838,  691.15844838,  620.90202   ,\n",
       "       1042.44059028,  901.92773352, 1463.97916056, 1323.4663038 ,\n",
       "        550.64559162,  410.13273486, 1604.49201732, 1534.23558894,\n",
       "        901.92773352,  339.87630648,  620.90202   , 1463.97916056,\n",
       "       1112.69701866, 1182.95344704,  691.15844838,  691.15844838,\n",
       "        901.92773352,  972.1841619 ,  761.41487676, 1463.97916056,\n",
       "        410.13273486,  620.90202   , 1463.97916056,  410.13273486,\n",
       "        972.1841619 , 1393.72273218,  410.13273486,  620.90202   ,\n",
       "       1463.97916056,  410.13273486, 1182.95344704, 1534.23558894,\n",
       "        620.90202   ,  620.90202   , 1534.23558894,  550.64559162,\n",
       "       1323.4663038 ,  550.64559162, 1253.20987542,  620.90202   ,\n",
       "       1112.69701866,  480.38916324,  550.64559162, 1604.49201732,\n",
       "       1393.72273218, 1463.97916056, 1393.72273218, 1112.69701866,\n",
       "        339.87630648,  761.41487676,  480.38916324,  972.1841619 ,\n",
       "        691.15844838, 1534.23558894,  550.64559162,  550.64559162,\n",
       "        410.13273486,  901.92773352,  691.15844838, 1323.4663038 ,\n",
       "        480.38916324, 1323.4663038 , 1463.97916056,  831.67130514,\n",
       "        550.64559162, 1534.23558894, 1604.49201732,  901.92773352,\n",
       "        901.92773352, 1042.44059028,  410.13273486,  550.64559162,\n",
       "        339.87630648,  761.41487676,  620.90202   , 1463.97916056,\n",
       "        550.64559162,  901.92773352,  339.87630648, 1604.49201732,\n",
       "       1182.95344704,  972.1841619 ,  620.90202   , 1042.44059028,\n",
       "        339.87630648, 1534.23558894, 1182.95344704,  480.38916324,\n",
       "        339.87630648,  339.87630648,  691.15844838,  761.41487676,\n",
       "       1182.95344704, 1393.72273218,  901.92773352, 1323.4663038 ,\n",
       "       1393.72273218, 1463.97916056, 1253.20987542, 1393.72273218,\n",
       "        620.90202   ,  480.38916324,  901.92773352,  480.38916324,\n",
       "       1604.49201732, 1463.97916056,  410.13273486, 1534.23558894,\n",
       "       1604.49201732,  761.41487676, 1042.44059028, 1182.95344704,\n",
       "        550.64559162,  550.64559162,  901.92773352, 1393.72273218,\n",
       "       1534.23558894,  620.90202   , 1253.20987542, 1534.23558894,\n",
       "        761.41487676,  480.38916324,  410.13273486,  761.41487676,\n",
       "        480.38916324,  480.38916324,  761.41487676,  480.38916324,\n",
       "        550.64559162,  691.15844838, 1182.95344704,  761.41487676,\n",
       "       1253.20987542, 1112.69701866,  691.15844838,  972.1841619 ,\n",
       "        550.64559162, 1042.44059028,  620.90202   , 1253.20987542,\n",
       "       1182.95344704,  761.41487676,  761.41487676, 1253.20987542,\n",
       "       1253.20987542,  761.41487676,  480.38916324,  691.15844838,\n",
       "        620.90202   , 1604.49201732, 1112.69701866, 1182.95344704,\n",
       "       1604.49201732,  691.15844838,  550.64559162, 1393.72273218,\n",
       "       1253.20987542, 1393.72273218, 1393.72273218, 1463.97916056,\n",
       "        972.1841619 , 1534.23558894,  831.67130514, 1534.23558894,\n",
       "       1534.23558894,  831.67130514,  550.64559162, 1534.23558894,\n",
       "        620.90202   , 1323.4663038 ,  550.64559162,  901.92773352,\n",
       "       1253.20987542, 1182.95344704, 1323.4663038 , 1323.4663038 ,\n",
       "        761.41487676, 1182.95344704, 1112.69701866, 1463.97916056,\n",
       "        410.13273486,  410.13273486,  831.67130514, 1112.69701866,\n",
       "       1182.95344704, 1323.4663038 , 1393.72273218, 1253.20987542,\n",
       "        410.13273486,  480.38916324,  691.15844838, 1253.20987542,\n",
       "       1112.69701866,  831.67130514,  550.64559162, 1253.20987542,\n",
       "        831.67130514,  761.41487676,  620.90202   ,  410.13273486,\n",
       "        410.13273486, 1323.4663038 ,  410.13273486, 1534.23558894,\n",
       "        480.38916324,  831.67130514,  410.13273486,  831.67130514,\n",
       "        972.1841619 ,  691.15844838,  480.38916324, 1182.95344704,\n",
       "        480.38916324, 1042.44059028,  691.15844838, 1393.72273218,\n",
       "       1463.97916056, 1112.69701866,  901.92773352, 1182.95344704,\n",
       "       1182.95344704, 1534.23558894,  761.41487676, 1393.72273218,\n",
       "        550.64559162, 1042.44059028,  691.15844838, 1323.4663038 ,\n",
       "       1393.72273218,  831.67130514,  972.1841619 , 1393.72273218,\n",
       "       1604.49201732,  972.1841619 ,  761.41487676, 1182.95344704,\n",
       "        691.15844838,  691.15844838, 1042.44059028,  972.1841619 ,\n",
       "       1042.44059028, 1534.23558894,  761.41487676,  620.90202   ,\n",
       "       1604.49201732, 1112.69701866,  691.15844838, 1393.72273218,\n",
       "        620.90202   ,  550.64559162, 1463.97916056,  339.87630648,\n",
       "        901.92773352,  901.92773352, 1042.44059028, 1323.4663038 ,\n",
       "        410.13273486,  831.67130514, 1463.97916056,  901.92773352,\n",
       "        691.15844838,  480.38916324, 1323.4663038 ,  972.1841619 ,\n",
       "       1393.72273218,  901.92773352, 1534.23558894, 1182.95344704,\n",
       "       1604.49201732, 1534.23558894, 1253.20987542,  691.15844838,\n",
       "        339.87630648, 1042.44059028, 1253.20987542,  761.41487676,\n",
       "        691.15844838, 1604.49201732, 1042.44059028,  691.15844838,\n",
       "        691.15844838, 1112.69701866, 1604.49201732,  901.92773352,\n",
       "       1253.20987542, 1253.20987542, 1604.49201732, 1253.20987542,\n",
       "        831.67130514,  831.67130514, 1534.23558894,  761.41487676,\n",
       "       1042.44059028, 1112.69701866, 1463.97916056, 1463.97916056,\n",
       "       1534.23558894, 1182.95344704,  550.64559162,  831.67130514,\n",
       "       1463.97916056, 1112.69701866,  410.13273486,  972.1841619 ,\n",
       "        480.38916324,  972.1841619 ,  691.15844838,  761.41487676,\n",
       "       1042.44059028, 1393.72273218,  972.1841619 , 1182.95344704,\n",
       "        550.64559162, 1042.44059028, 1604.49201732,  550.64559162,\n",
       "        339.87630648, 1182.95344704,  339.87630648, 1604.49201732,\n",
       "       1323.4663038 ,  620.90202   ,  550.64559162,  480.38916324,\n",
       "       1182.95344704, 1182.95344704,  691.15844838,  410.13273486,\n",
       "       1323.4663038 ,  339.87630648, 1463.97916056,  620.90202   ,\n",
       "       1463.97916056, 1182.95344704,  339.87630648,  620.90202   ,\n",
       "        831.67130514,  480.38916324,  972.1841619 ,  972.1841619 ,\n",
       "        410.13273486, 1604.49201732,  831.67130514,  339.87630648,\n",
       "        901.92773352, 1112.69701866, 1604.49201732,  480.38916324,\n",
       "        831.67130514,  761.41487676,  480.38916324, 1323.4663038 ,\n",
       "        480.38916324, 1534.23558894,  550.64559162, 1253.20987542,\n",
       "       1393.72273218, 1604.49201732,  831.67130514,  831.67130514,\n",
       "        901.92773352,  761.41487676, 1042.44059028, 1323.4663038 ,\n",
       "       1393.72273218,  339.87630648, 1112.69701866, 1323.4663038 ,\n",
       "        691.15844838,  691.15844838,  620.90202   , 1253.20987542,\n",
       "       1042.44059028, 1323.4663038 ,  620.90202   ,  410.13273486,\n",
       "       1393.72273218, 1463.97916056,  480.38916324,  972.1841619 ,\n",
       "        972.1841619 ,  831.67130514,  550.64559162, 1604.49201732,\n",
       "        339.87630648, 1604.49201732, 1393.72273218,  761.41487676,\n",
       "       1042.44059028, 1182.95344704, 1253.20987542,  410.13273486,\n",
       "        339.87630648,  972.1841619 ,  691.15844838,  480.38916324,\n",
       "        901.92773352, 1534.23558894,  480.38916324,  620.90202   ,\n",
       "       1112.69701866,  691.15844838,  339.87630648, 1112.69701866,\n",
       "       1182.95344704, 1463.97916056,  550.64559162,  691.15844838,\n",
       "        410.13273486,  831.67130514, 1534.23558894,  339.87630648,\n",
       "       1393.72273218,  761.41487676,  972.1841619 , 1253.20987542,\n",
       "       1042.44059028,  972.1841619 ,  901.92773352,  410.13273486,\n",
       "        831.67130514, 1253.20987542, 1182.95344704,  410.13273486,\n",
       "       1323.4663038 , 1323.4663038 , 1393.72273218, 1182.95344704,\n",
       "       1042.44059028, 1253.20987542, 1463.97916056,  761.41487676,\n",
       "       1323.4663038 , 1042.44059028,  480.38916324,  550.64559162,\n",
       "        550.64559162,  620.90202   , 1463.97916056,  339.87630648,\n",
       "        901.92773352, 1253.20987542, 1534.23558894,  901.92773352,\n",
       "       1253.20987542, 1253.20987542, 1042.44059028, 1463.97916056,\n",
       "       1534.23558894,  410.13273486,  620.90202   , 1534.23558894,\n",
       "        620.90202   , 1323.4663038 , 1182.95344704, 1042.44059028,\n",
       "        480.38916324, 1534.23558894,  972.1841619 , 1323.4663038 ,\n",
       "       1393.72273218, 1042.44059028, 1534.23558894,  339.87630648,\n",
       "       1182.95344704, 1042.44059028,  691.15844838,  550.64559162,\n",
       "       1323.4663038 , 1042.44059028, 1463.97916056, 1604.49201732,\n",
       "        480.38916324,  831.67130514,  410.13273486, 1253.20987542,\n",
       "       1042.44059028,  339.87630648,  901.92773352, 1393.72273218,\n",
       "        831.67130514, 1323.4663038 , 1393.72273218, 1463.97916056,\n",
       "       1534.23558894, 1463.97916056, 1112.69701866,  550.64559162,\n",
       "        901.92773352,  831.67130514, 1323.4663038 ,  761.41487676,\n",
       "        480.38916324,  620.90202   , 1112.69701866,  339.87630648,\n",
       "        691.15844838,  550.64559162,  972.1841619 , 1393.72273218,\n",
       "        410.13273486, 1393.72273218,  480.38916324,  901.92773352,\n",
       "       1393.72273218, 1253.20987542,  410.13273486,  831.67130514,\n",
       "       1604.49201732,  901.92773352,  550.64559162,  972.1841619 ,\n",
       "       1182.95344704, 1534.23558894,  831.67130514, 1323.4663038 ,\n",
       "       1112.69701866, 1463.97916056, 1393.72273218,  339.87630648,\n",
       "       1323.4663038 ,  339.87630648,  901.92773352,  620.90202   ,\n",
       "        972.1841619 ,  761.41487676, 1253.20987542,  480.38916324,\n",
       "        620.90202   ,  480.38916324,  550.64559162,  620.90202   ,\n",
       "        831.67130514, 1253.20987542,  901.92773352,  410.13273486,\n",
       "        410.13273486, 1393.72273218,  480.38916324, 1393.72273218,\n",
       "       1112.69701866,  972.1841619 , 1112.69701866, 1182.95344704,\n",
       "       1323.4663038 , 1182.95344704,  901.92773352,  761.41487676,\n",
       "       1463.97916056, 1323.4663038 ,  620.90202   ,  620.90202   ,\n",
       "        691.15844838, 1112.69701866, 1112.69701866,  480.38916324,\n",
       "        620.90202   , 1534.23558894,  480.38916324,  620.90202   ,\n",
       "       1393.72273218,  480.38916324, 1323.4663038 , 1112.69701866,\n",
       "        972.1841619 ,  550.64559162,  972.1841619 ,  620.90202   ,\n",
       "        901.92773352, 1253.20987542, 1182.95344704,  972.1841619 ,\n",
       "        339.87630648, 1393.72273218,  901.92773352, 1393.72273218,\n",
       "       1112.69701866,  831.67130514,  339.87630648,  691.15844838,\n",
       "        761.41487676, 1604.49201732,  972.1841619 ,  901.92773352,\n",
       "       1042.44059028,  410.13273486,  901.92773352, 1323.4663038 ,\n",
       "       1112.69701866, 1463.97916056,  410.13273486,  901.92773352,\n",
       "       1463.97916056,  972.1841619 ,  691.15844838, 1393.72273218,\n",
       "       1323.4663038 ,  620.90202   , 1253.20987542, 1323.4663038 ,\n",
       "       1393.72273218,  761.41487676,  550.64559162,  410.13273486,\n",
       "        901.92773352,  480.38916324, 1463.97916056,  831.67130514,\n",
       "       1112.69701866,  831.67130514,  339.87630648, 1253.20987542,\n",
       "       1112.69701866,  691.15844838,  691.15844838, 1112.69701866,\n",
       "       1323.4663038 , 1604.49201732,  691.15844838, 1323.4663038 ,\n",
       "       1112.69701866, 1042.44059028,  972.1841619 ,  901.92773352,\n",
       "       1534.23558894, 1393.72273218, 1534.23558894,  972.1841619 ,\n",
       "        691.15844838, 1534.23558894, 1042.44059028,  761.41487676])"
      ]
     },
     "execution_count": 37,
     "metadata": {},
     "output_type": "execute_result"
    }
   ],
   "source": [
    "y_pred"
   ]
  },
  {
   "cell_type": "code",
   "execution_count": 38,
   "id": "6f5bd8db",
   "metadata": {},
   "outputs": [
    {
     "data": {
      "text/plain": [
       "944"
      ]
     },
     "execution_count": 38,
     "metadata": {},
     "output_type": "execute_result"
    }
   ],
   "source": [
    "len(y_pred)"
   ]
  },
  {
   "cell_type": "code",
   "execution_count": 39,
   "id": "592152e3",
   "metadata": {},
   "outputs": [
    {
     "data": {
      "text/plain": [
       "[<matplotlib.lines.Line2D at 0x21f807260d0>]"
      ]
     },
     "execution_count": 39,
     "metadata": {},
     "output_type": "execute_result"
    },
    {
     "data": {
      "image/png": "[encoded data removed]",
      "text/plain": [
       "<Figure size 640x480 with 1 Axes>"
      ]
     },
     "metadata": {},
     "output_type": "display_data"
    }
   ],
   "source": [
    "c=[i for i in range (1,945)]\n",
    "plt.plot(c,y_test,color='green')\n",
    "plt.plot(c,y_pred,color='red')"
   ]
  },
  {
   "cell_type": "code",
   "execution_count": 40,
   "id": "8cbb5881",
   "metadata": {},
   "outputs": [
    {
     "data": {
      "text/plain": [
       "<AxesSubplot:ylabel='Price'>"
      ]
     },
     "execution_count": 40,
     "metadata": {},
     "output_type": "execute_result"
    },
    {
     "data": {
      "image/png": "[encoded data removed]",
      "text/plain": [
       "<Figure size 640x480 with 1 Axes>"
      ]
     },
     "metadata": {},
     "output_type": "display_data"
    }
   ],
   "source": [
    "sns.scatterplot(x=y_pred,y=y_test)\n"
   ]
  },
  {
   "cell_type": "markdown",
   "id": "7f984177",
   "metadata": {},
   "source": [
    "### Create a new dataframe with actual and predicted values with year(X_test) as index"
   ]
  },
  {
   "cell_type": "code",
   "execution_count": 41,
   "id": "e7c7de47",
   "metadata": {},
   "outputs": [],
   "source": [
    "data= {'X':['Y_test'], 'Y':['Y_pred']}"
   ]
  },
  {
   "cell_type": "code",
   "execution_count": 42,
   "id": "c28b783e",
   "metadata": {},
   "outputs": [
    {
     "data": {
      "text/html": [
       "<div>\n",
       "<style scoped>\n",
       "    .dataframe tbody tr th:only-of-type {\n",
       "        vertical-align: middle;\n",
       "    }\n",
       "\n",
       "    .dataframe tbody tr th {\n",
       "        vertical-align: top;\n",
       "    }\n",
       "\n",
       "    .dataframe thead th {\n",
       "        text-align: right;\n",
       "    }\n",
       "</style>\n",
       "<table border=\"1\" class=\"dataframe\">\n",
       "  <thead>\n",
       "    <tr style=\"text-align: right;\">\n",
       "      <th></th>\n",
       "      <th>X</th>\n",
       "      <th>Y</th>\n",
       "    </tr>\n",
       "  </thead>\n",
       "  <tbody>\n",
       "    <tr>\n",
       "      <th>X_test</th>\n",
       "      <td>Y_test</td>\n",
       "      <td>Y_pred</td>\n",
       "    </tr>\n",
       "  </tbody>\n",
       "</table>\n",
       "</div>"
      ],
      "text/plain": [
       "             X       Y\n",
       "X_test  Y_test  Y_pred"
      ]
     },
     "execution_count": 42,
     "metadata": {},
     "output_type": "execute_result"
    }
   ],
   "source": [
    "dt=pd.DataFrame(data,index=['X_test'])\n",
    "dt"
   ]
  },
  {
   "cell_type": "markdown",
   "id": "426592f1",
   "metadata": {},
   "source": [
    "### Check the mean absolute error, mean square error"
   ]
  },
  {
   "cell_type": "code",
   "execution_count": 43,
   "id": "05a5b97f",
   "metadata": {},
   "outputs": [],
   "source": [
    "from sklearn.metrics import mean_squared_error,r2_score"
   ]
  },
  {
   "cell_type": "code",
   "execution_count": 44,
   "id": "e8f5776d",
   "metadata": {},
   "outputs": [
    {
     "data": {
      "text/plain": [
       "57363.115877681754"
      ]
     },
     "execution_count": 44,
     "metadata": {},
     "output_type": "execute_result"
    }
   ],
   "source": [
    "mean_squared_error(y_test,y_pred)"
   ]
  },
  {
   "cell_type": "code",
   "execution_count": 45,
   "id": "78f8cbfa",
   "metadata": {},
   "outputs": [
    {
     "data": {
      "text/plain": [
       "0.7117520829948503"
      ]
     },
     "execution_count": 45,
     "metadata": {},
     "output_type": "execute_result"
    }
   ],
   "source": [
    "r2_score(y_test,y_pred)"
   ]
  },
  {
   "cell_type": "code",
   "execution_count": null,
   "id": "6a2b9736",
   "metadata": {},
   "outputs": [],
   "source": [
    " "
   ]
  }
 ],
 "metadata": {
  "kernelspec": {
   "display_name": "Python 3 (ipykernel)",
   "language": "python",
   "name": "python3"
  },
  "language_info": {
   "codemirror_mode": {
    "name": "ipython",
    "version": 3
   },
   "file_extension": ".py",
   "mimetype": "text/x-python",
   "name": "python",
   "nbconvert_exporter": "python",
   "pygments_lexer": "ipython3",
   "version": "3.9.13"
  }
 },
 "nbformat": 4,
 "nbformat_minor": 5
}
